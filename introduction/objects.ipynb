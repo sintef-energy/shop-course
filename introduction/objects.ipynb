{
 "cells": [
  {
   "cell_type": "markdown",
   "id": "a57d70bf",
   "metadata": {},
   "source": [
    "# Objects\n",
    "Objects are the basic building blocks in SHOP. Once our `ShopSession` has been initialized, all available object types can be listed as shown below by executing the code."
   ]
  },
  {
   "cell_type": "code",
   "execution_count": null,
   "id": "802da1b4",
   "metadata": {},
   "outputs": [],
   "source": [
    "from check.objects import *\n",
    "\n",
    "from pyshop import ShopSession\n",
    "shop = ShopSession()\n",
    "shop.model._all_types"
   ]
  },
  {
   "cell_type": "markdown",
   "id": "a7672ce3",
   "metadata": {},
   "source": [
    "## Object info\n",
    "The object types will also appear as auto-complete options when typing `shop.model.` if the `ShopSession` has been initialized. You can get infomration about the different object types as shown in the code below. If the object `isInput`, it is an object that can be created by the user as a building block for the whole model. If the object `isOutput`, it is created implicitly by SHOP and will typically have only one instace. Check the info for different object types in the code block below:"
   ]
  },
  {
   "cell_type": "code",
   "execution_count": null,
   "id": "f9072e7f",
   "metadata": {},
   "outputs": [],
   "source": [
    "shop.model.reserve_group.info()"
   ]
  },
  {
   "cell_type": "markdown",
   "id": "dcbfb2ef",
   "metadata": {},
   "source": [
    "## Create objects\n",
    "Adding new objects to SHOP can be done as shown below. Note that the object type is given by before the `add_object` function. Execute the code below."
   ]
  },
  {
   "cell_type": "code",
   "execution_count": null,
   "id": "91dc12a1",
   "metadata": {},
   "outputs": [],
   "source": [
    "shop.model.reservoir.add_object(\"Reservoir1\")\n",
    "print(shop.model.reservoir.get_object_names())"
   ]
  },
  {
   "cell_type": "markdown",
   "id": "fd9a5adb",
   "metadata": {},
   "source": [
    "### Exercise\n",
    "Complete the code below:\n",
    "- Add two `plant`s named `Plant1` and `Plant2`, and a generator named `Gen1`.\n",
    "- Check that the objects have been added by calling the object-type member function `get_object_names()`.\n",
    "- Check that the new objects also appear as options in the auto-complete drop-down menu when typing `shop.model.<object_type>.`"
   ]
  },
  {
   "cell_type": "code",
   "execution_count": null,
   "id": "92fadbf6",
   "metadata": {},
   "outputs": [],
   "source": [
    "shop.model.plant.add_object(\"Plant1\")\n",
    "\n",
    "check1(shop)"
   ]
  },
  {
   "cell_type": "markdown",
   "id": "249be407",
   "metadata": {},
   "source": [
    "## Alternative way of looking up object types, objects and attributes\n",
    "The 'dot' annotation for accessing object types, objects and attributes is convenient as it offers auto-completion. However, it also has some litations, for example:\n",
    "- Objects can't be accessed it the name is stored as a string variable.\n",
    "- Object names can not contain characters that have a special meaning in the Python programming language, for example '()-'.\n",
    "To make this clearer, we will illustrate with a few examples:"
   ]
  },
  {
   "cell_type": "code",
   "execution_count": null,
   "id": "597556bc",
   "metadata": {},
   "outputs": [],
   "source": [
    "shop.model.gate.add_object(\"Gate(1)\")"
   ]
  },
  {
   "cell_type": "code",
   "execution_count": null,
   "id": "439b4216",
   "metadata": {},
   "outputs": [],
   "source": [
    "shop.model.gate.Gate(1).get_name()"
   ]
  },
  {
   "cell_type": "markdown",
   "id": "b0048490",
   "metadata": {},
   "source": [
    "As seen above, we can create objects with name containing special characters. However, we are unable to access it with the dot-notation. In these cases, we can use the dictionary syntax shown below:"
   ]
  },
  {
   "cell_type": "code",
   "execution_count": null,
   "id": "20004781",
   "metadata": {},
   "outputs": [],
   "source": [
    "shop.model.gate['Gate(1)'].get_name()"
   ]
  },
  {
   "cell_type": "markdown",
   "id": "43fb07be",
   "metadata": {},
   "source": [
    "These two ways of accessing objects are equivalent and can be used interchangeably. Similarly, we can also use the notation for object types (shown below, and attributes that we will study more in detail in the next section):"
   ]
  },
  {
   "cell_type": "code",
   "execution_count": null,
   "id": "9a61523e",
   "metadata": {},
   "outputs": [],
   "source": [
    "shop.model['gate']['Gate(1)'].get_name()"
   ]
  },
  {
   "cell_type": "markdown",
   "id": "cd5328ca",
   "metadata": {},
   "source": [
    "Another benefit with the dictionary lookup syntax is that it can be used for contructing loops. For example, the code below loops all object types and prints their objects:"
   ]
  },
  {
   "cell_type": "code",
   "execution_count": null,
   "id": "400cb930",
   "metadata": {},
   "outputs": [],
   "source": [
    "for object_type in shop.model._all_types:\n",
    "    print(f'{object_type}: {shop.model[object_type].get_object_names()}')"
   ]
  }
 ],
 "metadata": {
  "interpreter": {
   "hash": "a99b379104e2ee1100f5ceda6b5755b760205edccc33bf6d14607a677128d7f1"
  },
  "jupytext": {
   "cell_metadata_filter": "-all",
   "notebook_metadata_filter": "-all"
  },
  "kernelspec": {
   "display_name": "Python 3.10.2 64-bit",
   "language": "python",
   "name": "python3"
  },
  "language_info": {
   "codemirror_mode": {
    "name": "ipython",
    "version": 3
   },
   "file_extension": ".py",
   "mimetype": "text/x-python",
   "name": "python",
   "nbconvert_exporter": "python",
   "pygments_lexer": "ipython3",
   "version": "3.10.2"
  }
 },
 "nbformat": 4,
 "nbformat_minor": 5
}
