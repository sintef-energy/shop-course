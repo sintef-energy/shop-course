{
 "cells": [
  {
   "cell_type": "markdown",
   "id": "289cc522",
   "metadata": {},
   "source": [
    "# Time\n",
    "To define optimization problems in SHOP, the following is mandatory:\n",
    "- Define a time inverval - when is the start and stop for the optimization.\n",
    "- Define a time resolution - what is the lenght of the discrete time steps.\n",
    "\n",
    "But to do that, we first need to create an instance of SHOP. Execute the code below:"
   ]
  },
  {
   "cell_type": "code",
   "execution_count": null,
   "id": "b02608a4",
   "metadata": {},
   "outputs": [],
   "source": [
    "from check.time import *\n",
    "from pyshop import ShopSession\n",
    "shop = ShopSession()"
   ]
  },
  {
   "cell_type": "markdown",
   "id": "8be65f12",
   "metadata": {},
   "source": [
    "The first line tells Python to import from a package named `pyshop` which is our SHOP wrapper. `ShopSession` is the name of the class we use for running SHOP. In the next line, we invoke the function (by adding the parantheses) and assign the instance to a variable we have named `shop`. All further interaction with SHOP will be using this variable.\n",
    "\n",
    "## Setting time inverval\n",
    "pySHOP uses the `pandas.Timestamp` object for setting the start- and endtime and for timeseries index. Execute the code below to import the `pandas` package which we will refer to as pd in the code for convenience. The code also assigns a timestamp to the `starttime` variable."
   ]
  },
  {
   "cell_type": "code",
   "execution_count": null,
   "id": "2e780836",
   "metadata": {},
   "outputs": [],
   "source": [
    "import pandas as pd\n",
    "starttime = pd.Timestamp('2022-01-01')"
   ]
  },
  {
   "cell_type": "markdown",
   "id": "84b757a0",
   "metadata": {},
   "source": [
    "### Exercise\n",
    "Complete the code below by replacing the `***`:\n",
    "- create a new `Timestamp` named `endtime` 2 days later than `starttime`.\n",
    "- fill in the missing argument to `set_time_resolution`.\n",
    "- execute the code."
   ]
  },
  {
   "cell_type": "code",
   "execution_count": null,
   "id": "cc71a0b3",
   "metadata": {},
   "outputs": [],
   "source": [
    "endtime = ***\n",
    "shop.set_time_resolution(starttime=starttime, endtime=***, timeunit='hour')\n",
    "\n",
    "check1(shop)"
   ]
  },
  {
   "cell_type": "markdown",
   "id": "842d23ec",
   "metadata": {},
   "source": [
    "The `set_time_resolution` function is a member function of our `ShopSession` object named `shop` and takes 3 madatory arguments: starttime, endtime and timeunit. The two first argument must be a `pd.Timestamp` object, and the timeunit a string with the value `hour`, `minute` or `second`. The above setting means we are using hourly time resolution. We will now verify that the time has been set correctly using the `get_time_resolution` function which returns a dictionary with the respective parameters."
   ]
  },
  {
   "cell_type": "code",
   "execution_count": null,
   "id": "bab00010",
   "metadata": {},
   "outputs": [],
   "source": [
    "time = shop.get_time_resolution()\n",
    "time"
   ]
  },
  {
   "cell_type": "markdown",
   "id": "4e61c6ca",
   "metadata": {},
   "source": [
    "Note that the returned dict also has a field called `timeresolution` which represents the step length from the given time and onwards. In our case, we have hourly timesteps for the whole period. Execute the code below to investigate the `timeresolution` further:"
   ]
  },
  {
   "cell_type": "code",
   "execution_count": null,
   "id": "4323c7de",
   "metadata": {},
   "outputs": [],
   "source": [
    "type(time['timeresolution'])"
   ]
  },
  {
   "cell_type": "markdown",
   "id": "514ec9dc",
   "metadata": {},
   "source": [
    "The `timeresolution` is an object of type `Series` from the pandas package, in other words a time series where the index is given by `Timestamp` objects. We want to set 15 minutes time resolution for the first 24 hours and hourly thereafter. An alternative `timeresolution` is defined below:"
   ]
  },
  {
   "cell_type": "code",
   "execution_count": null,
   "id": "abf35fee",
   "metadata": {},
   "outputs": [],
   "source": [
    "timeresolution = pd.Series(\n",
    "    data = [15, 60],\n",
    "    index = [starttime, starttime+pd.Timedelta(hours=24)]\n",
    ")\n",
    "timeresolution"
   ]
  },
  {
   "cell_type": "markdown",
   "id": "8bcaad13",
   "metadata": {},
   "source": [
    "The new timeseries has the value 15 from the starttime, meaning that the step length is 15 minutes, and then changes to 60 after 24 hours.\n",
    "\n",
    "### Exercise\n",
    "Complete the code below:\n",
    "- Insert our new `timeresolution` variable as the fourth argument to the `set_time_resolution` function.\n",
    "- Change time unit to `minute`.\n",
    "- Print the output from `get_time_resolution` to verify that all values have been set correctly."
   ]
  },
  {
   "cell_type": "code",
   "execution_count": null,
   "id": "d9bf8950",
   "metadata": {},
   "outputs": [],
   "source": [
    "shop.set_time_resolution(starttime=starttime, endtime=endtime, timeunit=***, timeresolution=***)\n",
    "print(shop.***)\n",
    "\n",
    "check2(shop)"
   ]
  },
  {
   "cell_type": "markdown",
   "id": "2f63f32b",
   "metadata": {},
   "source": [
    "The timeresolution retuned by SHOP is not identical with what we entered, and the whole timeseries can not be displayed in our view. The `Series` object has a convenient built-in plotting function we can use to visualize the output. Execute the code below to plot the output:"
   ]
  },
  {
   "cell_type": "code",
   "execution_count": null,
   "id": "9b8dceae",
   "metadata": {},
   "outputs": [],
   "source": [
    "shop.get_time_resolution()['timeresolution'].plot()"
   ]
  },
  {
   "cell_type": "markdown",
   "id": "bc2d60c6",
   "metadata": {},
   "source": [
    "Here we clearly see that the value is 15 the first 24 hours and 60 thereafter. Timeseries with missing points are by default interpolated and extrapolated with so-called forward fill. The returned time series has been extended with all the points reflecting the current time resolution of SHOP."
   ]
  },
  {
   "cell_type": "markdown",
   "id": "928ef8ad",
   "metadata": {},
   "source": [
    "## Video solution"
   ]
  },
  {
   "cell_type": "markdown",
   "id": "c0cfc315",
   "metadata": {},
   "source": [
    "<div style=\"padding:56.25% 0 0 0;position:relative;\"><iframe src=\"https://player.vimeo.com/video/709502635?h=363439611a&amp;badge=0&amp;autopause=0&amp;player_id=0&amp;app_id=58479\" frameborder=\"0\" allow=\"autoplay; fullscreen; picture-in-picture\" allowfullscreen style=\"position:absolute;top:0;left:0;width:100%;height:100%;\" title=\"Introduction to pySHOP - Time\"></iframe></div><script src=\"https://player.vimeo.com/api/player.js\"></script>"
   ]
  },
  {
   "cell_type": "markdown",
   "id": "a367bfd0",
   "metadata": {},
   "source": []
  }
 ],
 "metadata": {
  "interpreter": {
   "hash": "a99b379104e2ee1100f5ceda6b5755b760205edccc33bf6d14607a677128d7f1"
  },
  "jupytext": {
   "cell_metadata_filter": "-all"
  },
  "kernelspec": {
   "display_name": "Python 3.10.2 64-bit",
   "language": "python",
   "name": "python3"
  },
  "language_info": {
   "codemirror_mode": {
    "name": "ipython",
    "version": 3
   },
   "file_extension": ".py",
   "mimetype": "text/x-python",
   "name": "python",
   "nbconvert_exporter": "python",
   "pygments_lexer": "ipython3",
   "version": "3.10.2"
  }
 },
 "nbformat": 4,
 "nbformat_minor": 5
}
