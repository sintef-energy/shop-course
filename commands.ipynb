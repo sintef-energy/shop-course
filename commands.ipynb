{
 "cells": [
  {
   "cell_type": "markdown",
   "id": "ab19e584",
   "metadata": {},
   "source": [
    "# Commands"
   ]
  }
 ],
 "metadata": {
  "jupytext": {
   "cell_metadata_filter": "-all",
   "notebook_metadata_filter": "-all"
  },
  "language_info": {
   "name": "python"
  }
 },
 "nbformat": 4,
 "nbformat_minor": 5
}
