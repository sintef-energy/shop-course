{
 "cells": [
  {
   "cell_type": "markdown",
   "id": "a57d70bf",
   "metadata": {},
   "source": [
    "# Objects\n",
    "Objects are the basic building blocks in SHOP. Once our `ShopSession` has been initialized, all available object types can be listed as shown below by executing the code."
   ]
  },
  {
   "cell_type": "code",
   "execution_count": 1,
   "id": "802da1b4",
   "metadata": {},
   "outputs": [
    {
     "data": {
      "text/plain": [
       "['reservoir',\n",
       " 'plant',\n",
       " 'generator',\n",
       " 'needle_combination',\n",
       " 'pump',\n",
       " 'gate',\n",
       " 'thermal',\n",
       " 'junction',\n",
       " 'junction_gate',\n",
       " 'creek_intake',\n",
       " 'contract',\n",
       " 'network',\n",
       " 'market',\n",
       " 'global_settings',\n",
       " 'reserve_group',\n",
       " 'commit_group',\n",
       " 'discharge_group',\n",
       " 'production_group',\n",
       " 'volume_constraint',\n",
       " 'scenario',\n",
       " 'objective',\n",
       " 'bid_group',\n",
       " 'cut_group',\n",
       " 'inflow_series',\n",
       " 'system',\n",
       " 'unit_combination',\n",
       " 'tunnel',\n",
       " 'interlock_constraint',\n",
       " 'flow_constraint',\n",
       " 'lp_model',\n",
       " 'river',\n",
       " 'busbar',\n",
       " 'ac_line',\n",
       " 'dc_line']"
      ]
     },
     "execution_count": 1,
     "metadata": {},
     "output_type": "execute_result"
    }
   ],
   "source": [
    "from pyshop import ShopSession\n",
    "shop = ShopSession()\n",
    "shop.model._all_types"
   ]
  },
  {
   "cell_type": "markdown",
   "id": "a7672ce3",
   "metadata": {},
   "source": [
    "## Object info\n",
    "The object types will also appear as auto-complete options when typing `shop.model.` if the `ShopSession` has been initialized. You can get infomration about the different object types as shown in the code below. If the object `isInput`, it is an object that can be created by the user as a building block for the whole model. If the object `isOutput`, it is created implicitly by SHOP and will typically have only one instace. Check the info for different object types in the code block below:"
   ]
  },
  {
   "cell_type": "code",
   "execution_count": 2,
   "id": "f9072e7f",
   "metadata": {},
   "outputs": [
    {
     "data": {
      "text/plain": [
       "{'isInput': 'True', 'isOutput': 'False'}"
      ]
     },
     "execution_count": 2,
     "metadata": {},
     "output_type": "execute_result"
    }
   ],
   "source": [
    "shop.model.reserve_group.info()"
   ]
  },
  {
   "cell_type": "markdown",
   "id": "dcbfb2ef",
   "metadata": {},
   "source": [
    "## Create objects\n",
    "Adding new objects to SHOP can be done as shown below. Note that the object type is given by before the `add_object` function. Execute the code below."
   ]
  },
  {
   "cell_type": "code",
   "execution_count": 3,
   "id": "91dc12a1",
   "metadata": {},
   "outputs": [
    {
     "name": "stdout",
     "output_type": "stream",
     "text": [
      "['Reservoir1']\n"
     ]
    }
   ],
   "source": [
    "shop.model.reservoir.add_object(\"Reservoir1\")\n",
    "print(shop.model.reservoir.get_object_names())"
   ]
  },
  {
   "cell_type": "markdown",
   "id": "fd9a5adb",
   "metadata": {},
   "source": [
    "### Exercise\n",
    "Complete the code below:\n",
    "- Add two `plant`s named `Plant1` and `Plant2`, and a generator named `Gen1`.\n",
    "- Check that the objects have been added by calling the object-type member function `get_object_names()`.\n",
    "- Check that the new objects also appear as options in the auto-complete drop-down menu when typing `shop.model.<object_type>.`"
   ]
  },
  {
   "cell_type": "code",
   "execution_count": null,
   "id": "92fadbf6",
   "metadata": {},
   "outputs": [],
   "source": [
    "shop.model.plant.add_object(\"Plant1\")"
   ]
  },
  {
   "cell_type": "markdown",
   "id": "249be407",
   "metadata": {},
   "source": [
    "## Alternative way of looking up object types, objects and attributes\n",
    "The 'dot' annotation for accessing object types, objects and attributes is convenient as it offers auto-completion. However, it also has some litations, for example:\n",
    "- Objects can't be accessed it the name is stored as a string variable.\n",
    "- Object names can not contain characters that have a special meaning in the Python programming language, for example '()-'.\n",
    "To make this clearer, we will illustrate with a few examples:"
   ]
  },
  {
   "cell_type": "code",
   "execution_count": 5,
   "id": "597556bc",
   "metadata": {},
   "outputs": [
    {
     "data": {
      "text/plain": [
       "<pyshop.shopcore.model_builder.AttributeBuilderObject at 0x236ffda3940>"
      ]
     },
     "execution_count": 5,
     "metadata": {},
     "output_type": "execute_result"
    }
   ],
   "source": [
    "shop.model.gate.add_object(\"Gate(1)\")"
   ]
  },
  {
   "cell_type": "code",
   "execution_count": 6,
   "id": "439b4216",
   "metadata": {},
   "outputs": [
    {
     "ename": "AttributeError",
     "evalue": "",
     "output_type": "error",
     "traceback": [
      "\u001b[1;31m---------------------------------------------------------------------------\u001b[0m",
      "\u001b[1;31mAttributeError\u001b[0m                            Traceback (most recent call last)",
      "\u001b[1;32mc:\\shop\\shop-course\\objects.ipynb Cell 12'\u001b[0m in \u001b[0;36m<cell line: 1>\u001b[1;34m()\u001b[0m\n\u001b[1;32m----> <a href='vscode-notebook-cell:/c%3A/shop/shop-course/objects.ipynb#ch0000015?line=0'>1</a>\u001b[0m shop\u001b[39m.\u001b[39;49mmodel\u001b[39m.\u001b[39;49mgate\u001b[39m.\u001b[39;49mGate(\u001b[39m1\u001b[39m)\u001b[39m.\u001b[39mget_name()\n",
      "File \u001b[1;32mc:\\dev\\pyshop\\pyshop\\shopcore\\model_builder.py:168\u001b[0m, in \u001b[0;36mModelBuilderObject.__getattr__\u001b[1;34m(self, name)\u001b[0m\n\u001b[0;32m    <a href='file:///c%3A/dev/pyshop/pyshop/shopcore/model_builder.py?line=165'>166</a>\u001b[0m     \u001b[39mreturn\u001b[39;00m \u001b[39mself\u001b[39m\u001b[39m.\u001b[39mattributes[name]\n\u001b[0;32m    <a href='file:///c%3A/dev/pyshop/pyshop/shopcore/model_builder.py?line=166'>167</a>\u001b[0m \u001b[39melse\u001b[39;00m:\n\u001b[1;32m--> <a href='file:///c%3A/dev/pyshop/pyshop/shopcore/model_builder.py?line=167'>168</a>\u001b[0m     \u001b[39mraise\u001b[39;00m \u001b[39mAttributeError\u001b[39;00m()\n",
      "\u001b[1;31mAttributeError\u001b[0m: "
     ]
    }
   ],
   "source": [
    "shop.model.gate.Gate(1).get_name()"
   ]
  },
  {
   "cell_type": "markdown",
   "id": "b0048490",
   "metadata": {},
   "source": [
    "As seen above, we can create objects with name containing special characters. However, we are unable to access it with the dot-notation. In these cases, we can use the dictionary syntax shown below:"
   ]
  },
  {
   "cell_type": "code",
   "execution_count": 7,
   "id": "20004781",
   "metadata": {},
   "outputs": [
    {
     "data": {
      "text/plain": [
       "'Gate(1)'"
      ]
     },
     "execution_count": 7,
     "metadata": {},
     "output_type": "execute_result"
    }
   ],
   "source": [
    "shop.model.gate['Gate(1)'].get_name()"
   ]
  },
  {
   "cell_type": "markdown",
   "id": "43fb07be",
   "metadata": {},
   "source": [
    "These two ways of accessing objects are equivalent and can be used interchangeably. Similarly, we can also use the notation for object types (shown below, and attributes that we will study more in detail in the next section):"
   ]
  },
  {
   "cell_type": "code",
   "execution_count": 8,
   "id": "9a61523e",
   "metadata": {},
   "outputs": [
    {
     "data": {
      "text/plain": [
       "'Gate(1)'"
      ]
     },
     "execution_count": 8,
     "metadata": {},
     "output_type": "execute_result"
    }
   ],
   "source": [
    "shop.model['gate']['Gate(1)'].get_name()"
   ]
  },
  {
   "cell_type": "markdown",
   "id": "cd5328ca",
   "metadata": {},
   "source": [
    "Another benefit with the dictionary lookup syntax is that it can be used for contructing loops. For example, the code below loops all object types and prints their objects:"
   ]
  },
  {
   "cell_type": "code",
   "execution_count": 9,
   "id": "400cb930",
   "metadata": {},
   "outputs": [
    {
     "name": "stdout",
     "output_type": "stream",
     "text": [
      "reservoir: ['Reservoir1']\n",
      "plant: ['Plant1']\n",
      "generator: []\n",
      "needle_combination: []\n",
      "pump: []\n",
      "gate: ['Gate(1)']\n",
      "thermal: []\n",
      "junction: []\n",
      "junction_gate: []\n",
      "creek_intake: []\n",
      "contract: []\n",
      "network: []\n",
      "market: []\n",
      "global_settings: ['global_settings']\n",
      "reserve_group: []\n",
      "commit_group: []\n",
      "discharge_group: []\n",
      "production_group: []\n",
      "volume_constraint: []\n",
      "scenario: ['S1']\n",
      "objective: ['average_objective']\n",
      "bid_group: []\n",
      "cut_group: []\n",
      "inflow_series: []\n",
      "system: ['system']\n",
      "unit_combination: []\n",
      "tunnel: []\n",
      "interlock_constraint: []\n",
      "flow_constraint: []\n",
      "lp_model: ['lp_model']\n",
      "river: []\n",
      "busbar: []\n",
      "ac_line: []\n",
      "dc_line: []\n"
     ]
    }
   ],
   "source": [
    "for object_type in shop.model._all_types:\n",
    "    print(f'{object_type}: {shop.model[object_type].get_object_names()}')"
   ]
  }
 ],
 "metadata": {
  "interpreter": {
   "hash": "a99b379104e2ee1100f5ceda6b5755b760205edccc33bf6d14607a677128d7f1"
  },
  "jupytext": {
   "cell_metadata_filter": "-all",
   "notebook_metadata_filter": "-all"
  },
  "kernelspec": {
   "display_name": "Python 3.10.2 64-bit",
   "language": "python",
   "name": "python3"
  },
  "language_info": {
   "codemirror_mode": {
    "name": "ipython",
    "version": 3
   },
   "file_extension": ".py",
   "mimetype": "text/x-python",
   "name": "python",
   "nbconvert_exporter": "python",
   "pygments_lexer": "ipython3",
   "version": "3.10.2"
  }
 },
 "nbformat": 4,
 "nbformat_minor": 5
}
