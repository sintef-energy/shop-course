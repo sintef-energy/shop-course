{
 "cells": [
  {
   "cell_type": "markdown",
   "id": "b781638b",
   "metadata": {},
   "source": [
    "(time)=\n",
    "# Time interval and resolution\n"
   ]
  },
  {
   "cell_type": "markdown",
   "id": "ebe6d2bb",
   "metadata": {},
   "source": [
    "To define optimization problems in SHOP, the following is mandatory:\n",
    "- Define a time inverval - when is the start and stop for the optimization.\n",
    "- Define a time resolution - what is the lenght of the discrete time steps.\n",
    "\n",
    "But to do that, we first need to create an instance of SHOP. Execute the code below:"
   ]
  },
  {
   "cell_type": "code",
   "execution_count": 8,
   "id": "8dd60353",
   "metadata": {},
   "outputs": [],
   "source": [
    "from corrector.time import *\n",
    "from pyshop import ShopSession\n",
    "shop = ShopSession()"
   ]
  },
  {
   "cell_type": "markdown",
   "id": "5ea22a37",
   "metadata": {},
   "source": [
    "The first line tells Python to import from a package named `pyshop` which is our SHOP wrapper. `ShopSession` is the name of the class we use for running SHOP. In the next line, we invoke the function (by adding the parantheses) and assign the instance to a variable we have named `shop`. All further interaction with SHOP will be using this variable.\n",
    "\n",
    "## Setting time inverval\n",
    "pySHOP uses the `pandas.Timestamp` object for setting the start- and endtime and for timeseries index. Execute the code below to import the `pandas` package which we will refer to as pd in the code for convenience. The code also assigns a timestamp to the `starttime` variable."
   ]
  },
  {
   "cell_type": "code",
   "execution_count": 9,
   "id": "b64a434b",
   "metadata": {},
   "outputs": [],
   "source": [
    "import pandas as pd\n",
    "starttime = pd.Timestamp('2022-01-01')\n"
   ]
  },
  {
   "cell_type": "markdown",
   "id": "73147b16",
   "metadata": {},
   "source": [
    "### Exercise\n",
    "Complete the code below by replacing the `***`:\n",
    "- create a new `Timestamp` named `endtime` 2 days later than `starttime`.\n",
    "- fill in the missing argument to `set_time_resolution`.\n",
    "- execute the code."
   ]
  },
  {
   "cell_type": "code",
   "execution_count": 10,
   "id": "35e4eb5c",
   "metadata": {},
   "outputs": [
    {
     "data": {
      "application/vnd.jupyter.widget-view+json": {
       "model_id": "750e64eaf04e4776acf86be3322fd515",
       "version_major": 2,
       "version_minor": 0
      },
      "text/plain": [
       "Button(description='Check answer', style=ButtonStyle(), tooltip='Check answer')"
      ]
     },
     "metadata": {},
     "output_type": "display_data"
    },
    {
     "data": {
      "application/vnd.jupyter.widget-view+json": {
       "model_id": "81c7e9cfce3843b1a5dc1b7b427fafb2",
       "version_major": 2,
       "version_minor": 0
      },
      "text/plain": [
       "Output()"
      ]
     },
     "metadata": {},
     "output_type": "display_data"
    }
   ],
   "source": [
    "endtime = pd.Timestamp('2022-01-03')\n",
    "shop.set_time_resolution(starttime=starttime, endtime=endtime, timeunit='hour')\n",
    "\n",
    "check_time_resolution1(shop)"
   ]
  },
  {
   "cell_type": "markdown",
   "id": "cd8e47d2",
   "metadata": {},
   "source": [
    "The `set_time_resolution` function is a member function of our `ShopSession` object named `shop` and takes 3 madatory arguments: starttime, endtime and timeunit. The two first argument must be a `pd.Timestamp` object, and the timeunit a string with the value `hour`, `minute` or `second`. The above setting means we are using hourly time resolution. We will now verify that the time has been set correctly using the `get_time_resolution` function which returns a dictionary with the respective parameters."
   ]
  },
  {
   "cell_type": "code",
   "execution_count": 11,
   "id": "355a04b7",
   "metadata": {},
   "outputs": [
    {
     "data": {
      "text/plain": [
       "{'starttime': Timestamp('2022-01-01 00:00:00'),\n",
       " 'endtime': Timestamp('2022-01-03 00:00:00'),\n",
       " 'timeunit': 'hour',\n",
       " 'timeresolution': 2022-01-01    1.0\n",
       " Name: data, dtype: float64}"
      ]
     },
     "execution_count": 11,
     "metadata": {},
     "output_type": "execute_result"
    }
   ],
   "source": [
    "time = shop.get_time_resolution()\n",
    "time"
   ]
  },
  {
   "cell_type": "markdown",
   "id": "328c1e3a",
   "metadata": {},
   "source": [
    "Note that the returned dict also has a field called `timeresolution` which represents the step length from the given time and onwards. In our case, we have hourly timesteps for the whole period. Execute the code below to investigate the `timeresolution` further:"
   ]
  },
  {
   "cell_type": "code",
   "execution_count": 12,
   "id": "495fa439",
   "metadata": {},
   "outputs": [
    {
     "data": {
      "text/plain": [
       "pandas.core.series.Series"
      ]
     },
     "execution_count": 12,
     "metadata": {},
     "output_type": "execute_result"
    }
   ],
   "source": [
    "type(time['timeresolution'])"
   ]
  },
  {
   "cell_type": "markdown",
   "id": "4510dc6c",
   "metadata": {},
   "source": [
    "The `timeresolution` is an object of type `Series` from the pandas package, in other words a time series where the index is given by `Timestamp` objects. We want to set 15 minutes time resolution for the first 24 hours and hourly thereafter. An alternative `timeresolution` is defined below:"
   ]
  },
  {
   "cell_type": "code",
   "execution_count": 13,
   "id": "b72b72bb",
   "metadata": {},
   "outputs": [
    {
     "data": {
      "text/plain": [
       "2022-01-01    15\n",
       "2022-01-02    60\n",
       "dtype: int64"
      ]
     },
     "execution_count": 13,
     "metadata": {},
     "output_type": "execute_result"
    }
   ],
   "source": [
    "timeresolution = pd.Series(\n",
    "    data = [15, 60],\n",
    "    index = [starttime, starttime+pd.Timedelta(hours=24)]\n",
    ")\n",
    "timeresolution"
   ]
  },
  {
   "cell_type": "markdown",
   "id": "0f0fa808",
   "metadata": {},
   "source": [
    "The new timeseries has the value 15 from the starttime, meaning that the step length is 15 minutes, and then changes to 60 after 24 hours.\n",
    "\n",
    "### Exercise\n",
    "Complete the code below:\n",
    "- Insert our new `timeresolution` variable as the fourth argument to the `set_time_resolution` function.\n",
    "- Change time unit to `minute`.\n",
    "- Print the output from `get_time_resolution` to verify that all values have been set correctly."
   ]
  },
  {
   "cell_type": "code",
   "execution_count": 16,
   "id": "828ce326",
   "metadata": {},
   "outputs": [
    {
     "name": "stdout",
     "output_type": "stream",
     "text": [
      "{'starttime': Timestamp('2022-01-01 00:00:00'), 'endtime': Timestamp('2022-01-03 00:00:00'), 'timeunit': 'minute', 'timeresolution': 2022-01-01 00:00:00    15.0\n",
      "2022-01-01 00:15:00    15.0\n",
      "2022-01-01 00:30:00    15.0\n",
      "2022-01-01 00:45:00    15.0\n",
      "2022-01-01 01:00:00    15.0\n",
      "                       ... \n",
      "2022-01-02 20:00:00    60.0\n",
      "2022-01-02 21:00:00    60.0\n",
      "2022-01-02 22:00:00    60.0\n",
      "2022-01-02 23:00:00    60.0\n",
      "2022-01-03 00:00:00    60.0\n",
      "Name: data, Length: 121, dtype: float64}\n"
     ]
    },
    {
     "data": {
      "application/vnd.jupyter.widget-view+json": {
       "model_id": "3d199d42c44842b2bad35d000f900181",
       "version_major": 2,
       "version_minor": 0
      },
      "text/plain": [
       "Button(description='Check answer', style=ButtonStyle(), tooltip='Check answer')"
      ]
     },
     "metadata": {},
     "output_type": "display_data"
    },
    {
     "data": {
      "application/vnd.jupyter.widget-view+json": {
       "model_id": "f2baf1e9465345ff81cd5f74bee4371f",
       "version_major": 2,
       "version_minor": 0
      },
      "text/plain": [
       "Output()"
      ]
     },
     "metadata": {},
     "output_type": "display_data"
    }
   ],
   "source": [
    "shop.set_time_resolution(starttime=starttime, endtime=endtime, timeunit='minute', timeresolution=timeresolution)\n",
    "print(shop.get_time_resolution())\n",
    "\n",
    "check_time_resolution2(shop)"
   ]
  },
  {
   "cell_type": "markdown",
   "id": "9eca57eb",
   "metadata": {},
   "source": [
    "The timeresolution retuned by SHOP is not identical with what we entered, and the whole timeseries can not be displayed in our view. The `Series` object has a convenient built-in plotting function we can use to visualize the output. Execute the code below to plot the output:"
   ]
  },
  {
   "cell_type": "code",
   "execution_count": 17,
   "id": "4bb674dd",
   "metadata": {},
   "outputs": [
    {
     "data": {
      "text/plain": [
       "<AxesSubplot:>"
      ]
     },
     "execution_count": 17,
     "metadata": {},
     "output_type": "execute_result"
    },
    {
     "data": {
      "image/png": "[encoded data removed]",
      "text/plain": [
       "<Figure size 432x288 with 1 Axes>"
      ]
     },
     "metadata": {
      "needs_background": "light"
     },
     "output_type": "display_data"
    }
   ],
   "source": [
    "shop.get_time_resolution()['timeresolution'].plot()"
   ]
  },
  {
   "cell_type": "markdown",
   "id": "a1b7546f",
   "metadata": {},
   "source": [
    "Here we clearly see that the value is 15 the first 24 hours and 60 thereafter. Timeseries with missing points are by default interpolated and extrapolated with so-called forward fill. The returned time series has been extended with all the points reflecting the current time resolution of SHOP."
   ]
  }
 ],
 "metadata": {
  "interpreter": {
   "hash": "a99b379104e2ee1100f5ceda6b5755b760205edccc33bf6d14607a677128d7f1"
  },
  "jupytext": {
   "cell_metadata_filter": "-all",
   "notebook_metadata_filter": "-all"
  },
  "kernelspec": {
   "display_name": "Python 3.10.2 64-bit",
   "language": "python",
   "name": "python3"
  },
  "language_info": {
   "codemirror_mode": {
    "name": "ipython",
    "version": 3
   },
   "file_extension": ".py",
   "mimetype": "text/x-python",
   "name": "python",
   "nbconvert_exporter": "python",
   "pygments_lexer": "ipython3",
   "version": "3.10.2"
  }
 },
 "nbformat": 4,
 "nbformat_minor": 5
}
