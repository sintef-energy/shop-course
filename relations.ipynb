{
 "cells": [
  {
   "cell_type": "markdown",
   "id": "7fd54acc",
   "metadata": {},
   "source": [
    "# Relations"
   ]
  }
 ],
 "metadata": {
  "jupytext": {
   "cell_metadata_filter": "-all",
   "notebook_metadata_filter": "-all"
  },
  "language_info": {
   "name": "python"
  }
 },
 "nbformat": 4,
 "nbformat_minor": 5
}
